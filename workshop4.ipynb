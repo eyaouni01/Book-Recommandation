{
  "cells": [
    {
      "cell_type": "markdown",
      "metadata": {
        "id": "view-in-github",
        "colab_type": "text"
      },
      "source": [
        "<a href=\"https://colab.research.google.com/github/eyaouni01/Book-Recommandation/blob/main/workshop4.ipynb\" target=\"_parent\"><img src=\"https://colab.research.google.com/assets/colab-badge.svg\" alt=\"Open In Colab\"/></a>"
      ]
    },
    {
      "cell_type": "code",
      "execution_count": null,
      "metadata": {
        "colab": {
          "base_uri": "https://localhost:8080/"
        },
        "id": "3FbPEDU_o1Qr",
        "outputId": "fa8a315f-6d68-4cd1-cfa1-943822993049"
      },
      "outputs": [
        {
          "name": "stdout",
          "output_type": "stream",
          "text": [
            "Collecting pymongo\n",
            "  Downloading pymongo-4.13.2-cp311-cp311-manylinux_2_17_x86_64.manylinux2014_x86_64.whl.metadata (22 kB)\n",
            "Collecting dnspython\n",
            "  Downloading dnspython-2.7.0-py3-none-any.whl.metadata (5.8 kB)\n",
            "Downloading pymongo-4.13.2-cp311-cp311-manylinux_2_17_x86_64.manylinux2014_x86_64.whl (1.4 MB)\n",
            "\u001b[2K   \u001b[90m━━━━━━━━━━━━━━━━━━━━━━━━━━━━━━━━━━━━━━━━\u001b[0m \u001b[32m1.4/1.4 MB\u001b[0m \u001b[31m29.9 MB/s\u001b[0m eta \u001b[36m0:00:00\u001b[0m\n",
            "\u001b[?25hDownloading dnspython-2.7.0-py3-none-any.whl (313 kB)\n",
            "\u001b[2K   \u001b[90m━━━━━━━━━━━━━━━━━━━━━━━━━━━━━━━━━━━━━━━━\u001b[0m \u001b[32m313.6/313.6 kB\u001b[0m \u001b[31m27.0 MB/s\u001b[0m eta \u001b[36m0:00:00\u001b[0m\n",
            "\u001b[?25hInstalling collected packages: dnspython, pymongo\n",
            "Successfully installed dnspython-2.7.0 pymongo-4.13.2\n"
          ]
        }
      ],
      "source": [
        "!pip install pymongo dnspython"
      ]
    },
    {
      "cell_type": "code",
      "execution_count": null,
      "metadata": {
        "id": "bwEiTecNptPV"
      },
      "outputs": [],
      "source": [
        "import pymongo\n",
        "import getpass\n",
        "from IPython.display import clear_output"
      ]
    },
    {
      "cell_type": "code",
      "execution_count": null,
      "metadata": {
        "id": "egxYhQHUqcj5"
      },
      "outputs": [],
      "source": [
        "def connect_to_mongodb():\n",
        "  print(\"enter you mangoDB atlass connection string\")\n",
        "  connection_string=getpass.getpass(\"connectionstring\")\n",
        "\n",
        "  client = pymongo.MongoClient(connection_string)\n",
        "  db = client['chatbotDB']\n",
        "  collection = db['items']\n",
        "\n",
        "\n",
        "  collection.create_index(\n",
        "      [(\"name\",\"text\"),(\"description\", \"text\")],\n",
        "      name=\"TextIndex\"\n",
        "  )\n",
        "  return collection"
      ]
    },
    {
      "cell_type": "code",
      "execution_count": null,
      "metadata": {
        "id": "dtdSg4sysfIh"
      },
      "outputs": [],
      "source": [
        "def search_items(collection, query):\n",
        "    try:\n",
        "        results = collection.find(\n",
        "            {\"$text\": {\"$search\": query}},\n",
        "            {\"score\": {\"$meta\": \"textScore\"}}\n",
        "        ).sort([(\"score\", {\"$meta\": \"textScore\"})]).limit(5)\n",
        "\n",
        "        results_list = list(results)\n",
        "\n",
        "        if not results_list:\n",
        "            return \"No matching items found.\"\n",
        "\n",
        "        response = \"\\n\".join([f\"{item.get('name', 'No name')} -> {item.get('description', 'No description')}\" for item in results_list])\n",
        "        return response\n",
        "\n",
        "    except Exception as e:\n",
        "        return f\"An error occurred: {str(e)}\"\n"
      ]
    },
    {
      "cell_type": "code",
      "execution_count": null,
      "metadata": {
        "id": "TqVZy0eHvwlL"
      },
      "outputs": [],
      "source": [
        "# Step 5: Main chatbot loop (interactive in Colab)\n",
        "def run_chatbot():\n",
        "    collection = connect_to_mongodb()\n",
        "    print(\"Chatbot started! Type 'exit' to quit.\\n\")\n",
        "\n",
        "    while True:\n",
        "        query = input(\"Enter your keyword: \").strip()\n",
        "        if query.lower() == 'exit':\n",
        "            print(\"Chatbot stopped.\")\n",
        "            break\n",
        "        if not query:\n",
        "            print(\"Please enter a query.\")\n",
        "            continue\n",
        "\n",
        "        clear_output(wait=True)\n",
        "        print(f\"You: {query}\")\n",
        "        response = search_items(collection, query)\n",
        "        print(f\"\\nBot:\\n{response}\")"
      ]
    },
    {
      "cell_type": "code",
      "execution_count": null,
      "metadata": {
        "colab": {
          "background_save": true,
          "base_uri": "https://localhost:8080/"
        },
        "id": "J7R2N4dxxKVr",
        "outputId": "d534a06b-1c81-4e8c-c167-67379012ddca"
      },
      "outputs": [
        {
          "name": "stdout",
          "output_type": "stream",
          "text": [
            "enter you mangoDB atlass connection string\n",
            "Chatbot started! Type 'exit' to quit.\n",
            "\n",
            "You: blockchain\n",
            "\n",
            "Bot:\n",
            "Blockchain Wallet -> Secure digital wallet for managing cryptocurrencies using blockchain technology.\n",
            "You: Innovative machine learning uses transforming business applications\n",
            "\n",
            "Bot:\n",
            "Blockchain Wallet -> Secure digital wallet for managing cryptocurrencies using blockchain technology.\n",
            "Language Translator -> Real-time translation between 50+ languages using neural network models.\n"
          ]
        }
      ],
      "source": [
        "run_chatbot()"
      ]
    }
  ],
  "metadata": {
    "colab": {
      "provenance": [],
      "include_colab_link": true
    },
    "kernelspec": {
      "display_name": "Python 3",
      "name": "python3"
    },
    "language_info": {
      "name": "python"
    }
  },
  "nbformat": 4,
  "nbformat_minor": 0
}